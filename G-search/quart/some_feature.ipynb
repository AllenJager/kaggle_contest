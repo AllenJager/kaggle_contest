{
 "cells": [
  {
   "cell_type": "code",
   "execution_count": 2,
   "metadata": {
    "collapsed": true
   },
   "outputs": [
    {
     "name": "stdout",
     "output_type": "stream",
     "text": [
      "the envirment is ok\n"
     ]
    }
   ],
   "source": [
    "import os\n",
    "import datetime as dt\n",
    "import time\n",
    "from typing import Any, Dict, Optional, List\n",
    "\n",
    "import requests\n",
    "import pickle\n",
    "import numpy as np\n",
    "import pandas as pd\n",
    "import matplotlib.pyplot as plt\n",
    "import seaborn as sns\n",
    "import talib\n",
    "import multiprocessing as mp\n",
    "from requests.exceptions import ConnectionError, Timeout\n",
    "\n",
    "%matplotlib inline\n",
    "plt.style.use(\"fivethirtyeight\")\n",
    "print(\"the envirment is ok\")"
   ]
  },
  {
   "cell_type": "code",
   "execution_count": 4,
   "outputs": [
    {
     "name": "stdout",
     "output_type": "stream",
     "text": [
      "the struct of the fucs is ok\n"
     ]
    }
   ],
   "source": [
    "## 撰写自定义函数，通过API获取数据\n",
    "\n",
    "def fetch_trochil(url: str,\n",
    "                  params: Dict[str, str],\n",
    "                  attempt: int = 3,\n",
    "                  timeout: int = 3) -> Dict[str, Any]:\n",
    "    \"\"\"装饰requests.get函数\"\"\"\n",
    "    for i in range(attempt):\n",
    "        try:\n",
    "            resp = requests.get(url, params, timeout=timeout)\n",
    "            resp.raise_for_status()\n",
    "            data = resp.json()[\"data\"]\n",
    "            if not data:\n",
    "                raise Exception(\"empty dataset\")\n",
    "            return data\n",
    "        except (ConnectionError, Timeout) as e:\n",
    "            print(e)\n",
    "            i += 1\n",
    "            time.sleep(i * 0.5)\n",
    "\n",
    "\n",
    "def fetch_cnstocks(apikey: str) -> pd.DataFrame:\n",
    "    \"\"\"从蜂鸟数据获取A股产品列表\"\"\"\n",
    "    url = \"https://api.trochil.cn/v1/cnstock/markets\"\n",
    "    params = {\"apikey\": apikey}\n",
    "\n",
    "    res = fetch_trochil(url, params)\n",
    "\n",
    "    return pd.DataFrame.from_records(res)\n",
    "\n",
    "\n",
    "def fetch_daily_ohlc(symbol: str,\n",
    "                     date_from: dt.datetime,\n",
    "                     date_to: dt.datetime,\n",
    "                     apikey: str) -> pd.DataFrame:\n",
    "    \"\"\"从蜂鸟数据获取A股日图历史K线\"\"\"\n",
    "    url = \"https://api.trochil.cn/v1/cnstock/history\"\n",
    "    params = {\n",
    "        \"symbol\": symbol,\n",
    "        \"start_date\": date_from.strftime(\"%Y-%m-%d\"),\n",
    "        \"end_date\": date_to.strftime(\"%Y-%m-%d\"),\n",
    "        \"freq\": \"daily\",\n",
    "        \"apikey\": apikey\n",
    "    }\n",
    "\n",
    "    res = fetch_trochil(url, params)\n",
    "\n",
    "    return pd.DataFrame.from_records(res)\n",
    "\n",
    "\n",
    "def fetch_index_ohlc(symbol: str,\n",
    "                     date_from: dt.datetime,\n",
    "                     date_to: dt.datetime,\n",
    "                     apikey: str) -> pd.DataFrame:\n",
    "    \"\"\"获取股指的日图历史数据\"\"\"\n",
    "    url = \"https://api.trochil.cn/v1/index/daily\"\n",
    "    params = {\n",
    "        \"symbol\": symbol,\n",
    "        \"start_date\": date_from.strftime(\"%Y-%m-%d\"),\n",
    "        \"end_date\": date_to.strftime(\"%Y-%m-%d\"),\n",
    "        \"apikey\": apikey\n",
    "    }\n",
    "\n",
    "    res = fetch_trochil(url, params)\n",
    "\n",
    "    return pd.DataFrame.from_records(res)\n",
    "\n",
    "print(\"the struct of the fucs is ok\")"
   ],
   "metadata": {
    "collapsed": false,
    "pycharm": {
     "name": "#%%\n"
    }
   }
  },
  {
   "cell_type": "code",
   "execution_count": 5,
   "outputs": [
    {
     "name": "stdout",
     "output_type": "stream",
     "text": [
      "HTTPSConnectionPool(host='api.trochil.cn', port=443): Max retries exceeded with url: /v1/cnstock/markets (Caused by ConnectTimeoutError(<urllib3.connection.HTTPSConnection object at 0x00000193DC643E20>, 'Connection to api.trochil.cn timed out. (connect timeout=3)'))\n",
      "HTTPSConnectionPool(host='api.trochil.cn', port=443): Max retries exceeded with url: /v1/cnstock/markets (Caused by ConnectTimeoutError(<urllib3.connection.HTTPSConnection object at 0x00000193DC64D9A0>, 'Connection to api.trochil.cn timed out. (connect timeout=3)'))\n",
      "HTTPSConnectionPool(host='api.trochil.cn', port=443): Max retries exceeded with url: /v1/cnstock/markets (Caused by ConnectTimeoutError(<urllib3.connection.HTTPSConnection object at 0x00000193DC64D5E0>, 'Connection to api.trochil.cn timed out. (connect timeout=3)'))\n"
     ]
    },
    {
     "ename": "TypeError",
     "evalue": "object of type 'NoneType' has no len()",
     "output_type": "error",
     "traceback": [
      "\u001B[1;31m---------------------------------------------------------------------------\u001B[0m",
      "\u001B[1;31mTypeError\u001B[0m                                 Traceback (most recent call last)",
      "\u001B[1;32mC:\\Users\\CULTIV~1\\AppData\\Local\\Temp/ipykernel_14020/3652869593.py\u001B[0m in \u001B[0;36m<module>\u001B[1;34m\u001B[0m\n\u001B[0;32m      1\u001B[0m \u001B[0mapikey\u001B[0m \u001B[1;33m=\u001B[0m \u001B[0mos\u001B[0m\u001B[1;33m.\u001B[0m\u001B[0mgetenv\u001B[0m\u001B[1;33m(\u001B[0m\u001B[1;34m\"TROCHIL_API\"\u001B[0m\u001B[1;33m)\u001B[0m  \u001B[1;31m# use your apikey\u001B[0m\u001B[1;33m\u001B[0m\u001B[1;33m\u001B[0m\u001B[0m\n\u001B[1;32m----> 2\u001B[1;33m \u001B[0mcnstocks\u001B[0m \u001B[1;33m=\u001B[0m \u001B[0mfetch_cnstocks\u001B[0m\u001B[1;33m(\u001B[0m\u001B[0mapikey\u001B[0m\u001B[1;33m)\u001B[0m\u001B[1;33m\u001B[0m\u001B[1;33m\u001B[0m\u001B[0m\n\u001B[0m\u001B[0;32m      3\u001B[0m \u001B[0mcnstocks\u001B[0m\u001B[1;33m\u001B[0m\u001B[1;33m\u001B[0m\u001B[0m\n",
      "\u001B[1;32mC:\\Users\\CULTIV~1\\AppData\\Local\\Temp/ipykernel_14020/1201604622.py\u001B[0m in \u001B[0;36mfetch_cnstocks\u001B[1;34m(apikey)\u001B[0m\n\u001B[0;32m     27\u001B[0m     \u001B[0mres\u001B[0m \u001B[1;33m=\u001B[0m \u001B[0mfetch_trochil\u001B[0m\u001B[1;33m(\u001B[0m\u001B[0murl\u001B[0m\u001B[1;33m,\u001B[0m \u001B[0mparams\u001B[0m\u001B[1;33m)\u001B[0m\u001B[1;33m\u001B[0m\u001B[1;33m\u001B[0m\u001B[0m\n\u001B[0;32m     28\u001B[0m \u001B[1;33m\u001B[0m\u001B[0m\n\u001B[1;32m---> 29\u001B[1;33m     \u001B[1;32mreturn\u001B[0m \u001B[0mpd\u001B[0m\u001B[1;33m.\u001B[0m\u001B[0mDataFrame\u001B[0m\u001B[1;33m.\u001B[0m\u001B[0mfrom_records\u001B[0m\u001B[1;33m(\u001B[0m\u001B[0mres\u001B[0m\u001B[1;33m)\u001B[0m\u001B[1;33m\u001B[0m\u001B[1;33m\u001B[0m\u001B[0m\n\u001B[0m\u001B[0;32m     30\u001B[0m \u001B[1;33m\u001B[0m\u001B[0m\n\u001B[0;32m     31\u001B[0m \u001B[1;33m\u001B[0m\u001B[0m\n",
      "\u001B[1;32m~\\anaconda3\\lib\\site-packages\\pandas\\core\\frame.py\u001B[0m in \u001B[0;36mfrom_records\u001B[1;34m(cls, data, index, exclude, columns, coerce_float, nrows)\u001B[0m\n\u001B[0;32m   1853\u001B[0m             \u001B[0marr_columns\u001B[0m \u001B[1;33m=\u001B[0m \u001B[0mcolumns\u001B[0m\u001B[1;33m\u001B[0m\u001B[1;33m\u001B[0m\u001B[0m\n\u001B[0;32m   1854\u001B[0m         \u001B[1;32melse\u001B[0m\u001B[1;33m:\u001B[0m\u001B[1;33m\u001B[0m\u001B[1;33m\u001B[0m\u001B[0m\n\u001B[1;32m-> 1855\u001B[1;33m             \u001B[0marrays\u001B[0m\u001B[1;33m,\u001B[0m \u001B[0marr_columns\u001B[0m \u001B[1;33m=\u001B[0m \u001B[0mto_arrays\u001B[0m\u001B[1;33m(\u001B[0m\u001B[0mdata\u001B[0m\u001B[1;33m,\u001B[0m \u001B[0mcolumns\u001B[0m\u001B[1;33m,\u001B[0m \u001B[0mcoerce_float\u001B[0m\u001B[1;33m=\u001B[0m\u001B[0mcoerce_float\u001B[0m\u001B[1;33m)\u001B[0m\u001B[1;33m\u001B[0m\u001B[1;33m\u001B[0m\u001B[0m\n\u001B[0m\u001B[0;32m   1856\u001B[0m \u001B[1;33m\u001B[0m\u001B[0m\n\u001B[0;32m   1857\u001B[0m             \u001B[0marr_columns\u001B[0m \u001B[1;33m=\u001B[0m \u001B[0mensure_index\u001B[0m\u001B[1;33m(\u001B[0m\u001B[0marr_columns\u001B[0m\u001B[1;33m)\u001B[0m\u001B[1;33m\u001B[0m\u001B[1;33m\u001B[0m\u001B[0m\n",
      "\u001B[1;32m~\\anaconda3\\lib\\site-packages\\pandas\\core\\internals\\construction.py\u001B[0m in \u001B[0;36mto_arrays\u001B[1;34m(data, columns, coerce_float, dtype)\u001B[0m\n\u001B[0;32m    519\u001B[0m         \u001B[1;32mreturn\u001B[0m \u001B[0marrays\u001B[0m\u001B[1;33m,\u001B[0m \u001B[0mcolumns\u001B[0m\u001B[1;33m\u001B[0m\u001B[1;33m\u001B[0m\u001B[0m\n\u001B[0;32m    520\u001B[0m \u001B[1;33m\u001B[0m\u001B[0m\n\u001B[1;32m--> 521\u001B[1;33m     \u001B[1;32mif\u001B[0m \u001B[1;32mnot\u001B[0m \u001B[0mlen\u001B[0m\u001B[1;33m(\u001B[0m\u001B[0mdata\u001B[0m\u001B[1;33m)\u001B[0m\u001B[1;33m:\u001B[0m\u001B[1;33m\u001B[0m\u001B[1;33m\u001B[0m\u001B[0m\n\u001B[0m\u001B[0;32m    522\u001B[0m         \u001B[1;32mif\u001B[0m \u001B[0misinstance\u001B[0m\u001B[1;33m(\u001B[0m\u001B[0mdata\u001B[0m\u001B[1;33m,\u001B[0m \u001B[0mnp\u001B[0m\u001B[1;33m.\u001B[0m\u001B[0mndarray\u001B[0m\u001B[1;33m)\u001B[0m\u001B[1;33m:\u001B[0m\u001B[1;33m\u001B[0m\u001B[1;33m\u001B[0m\u001B[0m\n\u001B[0;32m    523\u001B[0m             \u001B[0mcolumns\u001B[0m \u001B[1;33m=\u001B[0m \u001B[0mdata\u001B[0m\u001B[1;33m.\u001B[0m\u001B[0mdtype\u001B[0m\u001B[1;33m.\u001B[0m\u001B[0mnames\u001B[0m\u001B[1;33m\u001B[0m\u001B[1;33m\u001B[0m\u001B[0m\n",
      "\u001B[1;31mTypeError\u001B[0m: object of type 'NoneType' has no len()"
     ]
    }
   ],
   "source": [
    "apikey = os.getenv(\"TROCHIL_API\")  # use your apikey\n",
    "cnstocks = fetch_cnstocks(apikey)\n",
    "cnstocks"
   ],
   "metadata": {
    "collapsed": false,
    "pycharm": {
     "name": "#%%\n"
    }
   }
  },
  {
   "cell_type": "code",
   "execution_count": null,
   "outputs": [],
   "source": [
    "cnstocks_shsz = cnstocks.query(\"symbol.str.startswith('SH')\")\n",
    "cnstocks_shsz"
   ],
   "metadata": {
    "collapsed": false,
    "pycharm": {
     "name": "#%%\n"
    }
   }
  },
  {
   "cell_type": "code",
   "execution_count": null,
   "outputs": [],
   "source": [
    "%%time\n",
    "\n",
    "# 下载2019年至今的历史数据\n",
    "# 下载时剔除K线少于260个交易日的股票\n",
    "date_from = dt.datetime(2019, 1, 1)\n",
    "date_to = dt.datetime.today()\n",
    "symbols = cnstocks_shsz.symbol.to_list()\n",
    "min_klines = 260\n",
    "\n",
    "# 逐个下载，蜂鸟数据的API没有分钟请求限制\n",
    "# 先把数据存储在列表中，下载完成后再合并和清洗\n",
    "ohlc_list = []\n",
    "for symbol in symbols:\n",
    "    try:\n",
    "        ohlc = fetch_daily_ohlc(symbol, date_from, date_to, apikey)\n",
    "        if ohlc is not None and len(ohlc) >= min_klines:\n",
    "            ohlc.set_index(\"datetime\", inplace=True)\n",
    "            ohlc_list.append(ohlc)\n",
    "    except Exception as e:\n",
    "        pass"
   ],
   "metadata": {
    "collapsed": false,
    "pycharm": {
     "name": "#%%\n"
    }
   }
  },
  {
   "cell_type": "code",
   "execution_count": null,
   "outputs": [],
   "source": [
    "ohlc_joined = pd.concat(ohlc_list)\n",
    "ohlc_joined.info()\n",
    "ohlc_joined.isnull().sum()\n",
    "ohlc_joined.to_csv(\"cnstock_daily_ohlc.csv\", index=True)"
   ],
   "metadata": {
    "collapsed": false,
    "pycharm": {
     "name": "#%%\n"
    }
   }
  },
  {
   "cell_type": "code",
   "execution_count": null,
   "outputs": [],
   "source": [
    "benchmark = fetch_index_ohlc(\"shci\", date_from, date_to, apikey)\n",
    "benchmark.tail()\n",
    "benchmark_ann_ret = benchmark.close.pct_change(252).iloc[-1]"
   ],
   "metadata": {
    "collapsed": false,
    "pycharm": {
     "name": "#%%\n"
    }
   }
  },
  {
   "cell_type": "code",
   "execution_count": null,
   "outputs": [],
   "source": [
    "def screen(close: pd.Series, benchmark_ann_ret: float) -> pd.Series:\n",
    "    \"\"\"实现MM选股模型的逻辑，评估单只股票是否满足筛选条件\n",
    "\n",
    "    Args:\n",
    "        close(pd.Series): 股票收盘价，默认时间序列索引\n",
    "        benchmark_ann_ret(float): 基准指数1年收益率，用于计算相对强弱\n",
    "    \"\"\"\n",
    "    # 计算50，150，200日均线\n",
    "    ema_50 = talib.EMA(close, 50).iloc[-1]\n",
    "    ema_150 = talib.EMA(close, 150).iloc[-1]\n",
    "    ema_200 = talib.EMA(close, 200).iloc[-1]\n",
    "\n",
    "    # 200日均线的20日移动平滑，用于判断200日均线是否上升\n",
    "    ema_200_smooth = talib.EMA(talib.EMA(close, 200), 20).iloc[-1]\n",
    "\n",
    "    # 收盘价的52周高点和52周低点\n",
    "    high_52week = close.rolling(52 * 5).max().iloc[-1]\n",
    "    low_52week = close.rolling(52 * 5).min().iloc[-1]\n",
    "\n",
    "    # 最新收盘价\n",
    "    cl = close.iloc[-1]\n",
    "\n",
    "    # 筛选条件1：收盘价高于150日均线和200日均线\n",
    "    if cl > ema_150 and cl > ema_200:\n",
    "        condition_1 = True\n",
    "    else:\n",
    "        condition_1 = False\n",
    "\n",
    "    # 筛选条件2：150日均线高于200日均线\n",
    "    if ema_150 > ema_200:\n",
    "        condition_2 = True\n",
    "    else:\n",
    "        condition_2 = False\n",
    "\n",
    "    # 筛选条件3：200日均线上升1个月\n",
    "    if ema_200 > ema_200_smooth:\n",
    "        condition_3 = True\n",
    "    else:\n",
    "        condition_3 = False\n",
    "\n",
    "    # 筛选条件4：50日均线高于150日均线和200日均线\n",
    "    if ema_50 > ema_150 and ema_50 > ema_200:\n",
    "        condition_4 = True\n",
    "    else:\n",
    "        condition_4 = False\n",
    "\n",
    "    # 筛选条件5：收盘价高于50日均线\n",
    "    if cl > ema_50:\n",
    "        condition_5 = True\n",
    "    else:\n",
    "        condition_5 = False\n",
    "\n",
    "    # 筛选条件6：收盘价比52周低点高30%\n",
    "    if cl >= low_52week * 1.3:\n",
    "        condition_6 = True\n",
    "    else:\n",
    "        condition_6 = False\n",
    "\n",
    "    # 筛选条件7：收盘价在52周高点的25%以内\n",
    "    if cl >= high_52week * 0.75 and cl <= high_52week * 1.25:\n",
    "        condition_7 = True\n",
    "    else:\n",
    "        condition_7 = False\n",
    "\n",
    "    # 筛选条件8：相对强弱指数大于等于70\n",
    "    rs = close.pct_change(252).iloc[-1] / benchmark_ann_ret * 100\n",
    "    if rs >= 70:\n",
    "        condition_8 = True\n",
    "    else:\n",
    "        condition_8 = False\n",
    "\n",
    "    # 判断股票是否符合标准\n",
    "    if (condition_1 and condition_2 and condition_3 and\n",
    "        condition_4 and condition_5 and condition_6 and\n",
    "        condition_7 and condition_8):\n",
    "        meet_criterion = True\n",
    "    else:\n",
    "        meet_criterion = False\n",
    "\n",
    "    out = {\n",
    "        \"rs\": round(rs, 2),\n",
    "        \"close\": cl,\n",
    "        \"ema_50\": ema_50,\n",
    "        \"ema_150\": ema_150,\n",
    "        \"ema_200\": ema_200,\n",
    "        \"high_52week\": high_52week,\n",
    "        \"low_52week\": low_52week,\n",
    "        \"meet_criterion\": meet_criterion\n",
    "    }\n",
    "\n",
    "    return pd.Series(out)"
   ],
   "metadata": {
    "collapsed": false,
    "pycharm": {
     "name": "#%%\n"
    }
   }
  },
  {
   "cell_type": "code",
   "execution_count": null,
   "outputs": [],
   "source": [
    "# 仅仅筛选有足够历史数据的股票\n",
    "symbols_to_screen = list(ohlc_joined.symbol.unique())\n",
    "\n",
    "# 将数据框的格式从long-format转化为wide-format\n",
    "ohlc_joined_wide = ohlc_joined.pivot(columns=\"symbol\", values=\"close\").fillna(method=\"ffill\")\n",
    "\n",
    "ohlc_joined_wide.head()"
   ],
   "metadata": {
    "collapsed": false,
    "pycharm": {
     "name": "#%%\n"
    }
   }
  },
  {
   "cell_type": "code",
   "execution_count": null,
   "outputs": [],
   "source": [
    "%%time\n",
    "\n",
    "results = ohlc_joined_wide.apply(screen, benchmark_ann_ret=benchmark_ann_ret)\n",
    "results = results.T"
   ],
   "metadata": {
    "collapsed": false,
    "pycharm": {
     "name": "#%%\n"
    }
   }
  },
  {
   "cell_type": "code",
   "execution_count": null,
   "outputs": [],
   "source": [
    "results.query(\"meet_criterion == True\").sort_values(\"rs\", ascending=False)"
   ],
   "metadata": {
    "collapsed": false,
    "pycharm": {
     "name": "#%%\n"
    }
   }
  }
 ],
 "metadata": {
  "kernelspec": {
   "display_name": "Python 3",
   "language": "python",
   "name": "python3"
  },
  "language_info": {
   "codemirror_mode": {
    "name": "ipython",
    "version": 2
   },
   "file_extension": ".py",
   "mimetype": "text/x-python",
   "name": "python",
   "nbconvert_exporter": "python",
   "pygments_lexer": "ipython2",
   "version": "2.7.6"
  }
 },
 "nbformat": 4,
 "nbformat_minor": 0
}